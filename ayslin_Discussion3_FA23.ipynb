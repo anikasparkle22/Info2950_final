{
 "cells": [
  {
   "cell_type": "markdown",
   "metadata": {
    "id": "TxU6oSJx7639"
   },
   "source": [
    "# INFO 2950 Discussion Week 3\n",
    "\n",
    "For our group time on Friday we will be going through a tutorial on web scraping together.\n",
    "\n",
    "**Make sure to complete and save this notebook before next Friday's section!** We will use the completed version for an activity on pushing to GitHub next week.\n",
    "\n",
    "\n"
   ]
  },
  {
   "cell_type": "markdown",
   "metadata": {
    "id": "-34StO4VWhP6"
   },
   "source": [
    "## What is web scraping?\n",
    "\n",
    "Web scraping is the process of creating structured data frames readable by computers from less-structured web pages that are intended to be read by humans.\n",
    "\n",
    "## Do you need to scrape?\n",
    "\n",
    "Scraping is difficult, error-prone, and may get you in legal or ethical trouble. Always check if the information you are seeking already exists in a nicer format. Many companies also have APIs or other infrastructure dedicated to serving automated requests.\n",
    "\n",
    "## Ethics of scraping\n",
    "\n",
    "Scraping is the aspect of data science most likely to get you into trouble. Legally, there are two main concerns: copyright violation if you are making copies of content that is protected by copyright, and terms-of-service violation. Many sites will also attempt to block scrapers. Acting to avoid these blocks may constitute hacking.\n",
    "\n",
    "In addition to legal problems, there are ethical problems.\n",
    "\n",
    "* Respect other people's hard work. Collecting information for a cool website is difficult and takes a long time and careful preparation. Is it fair to take all that work and use it for your purposes?\n",
    "* Respect other people's businesses. People feed their families by collecting and sharing information, for example through ad revenue. They may be unhappy if they think you are trying to steal their work and prevent them from monetizing it. Websites also sometimes pay for bandwidth and cloud services, and you don't want to take up all their resources for purposes that provide no revenue.\n",
    "* Respect other people's audiences. Don't [DDOS](https://en.wikipedia.org/wiki/Denial-of-service_attack) a website! Keep requests spaced to about 2/second at most. Web hits don't take a lot of resources, but it's easy to flood a site with requests, locking others out.\n",
    "\n",
    "## Process\n",
    "\n",
    "Find a page that contains the info you want. Some older pages are static, but most of what you will see today are views of databases. For example, Amazon has a database of products, Letterboxd has a database of movies, and Netflix has a database of shows. Each page either lists entities in the database or gives information about specific entities.\n",
    "\n",
    "You would prefer to get access directly to the database, and in some cases you can. But for whatever reason sometimes the web page is all you can get. This process can be difficult because web pages are optimized for people to look at, not for computers to operate on. But it is simpler because in this case a computer has to generate a page *from* a database record and a web browser has to know how to display the elements on the page so that humans can read them. These constraints mean that there are regularities in how specific pieces of information are shown in  HTML, and if you can figure them out, you can reverse the page generation process and get back to something that looks more like a database.\n",
    "\n",
    "How do you know which pages to get? Often an index or search result page leads to individual pages with more detailed information.\n",
    "\n",
    "\n",
    "### Web scraping in Python\n",
    "\n",
    "The [`requests`](https://requests.readthedocs.io/en/latest/) library allows you to download files from the web. It is much easier to use than `urllib`. You can use the `requests` library to get information from web pages so that you can save them to files or analyze their data in python.\n",
    "\n",
    "After using `requests` to access web data, you'll use [Beautiful Soup](https://www.crummy.com/software/BeautifulSoup/bs4/doc/) to parse that information, organized in HTML. `BeautifulSoup` makes querying a tree of tags and their attributes much easier than trying to parse HTML from scratch. You'll need to spend some time looking at the target web page and finding the combination of tag names and classes you're interested in, but `BeautifulSoup` can help access that information once you know what you need.\n",
    "\n",
    "\n",
    "\n",
    "## Installation\n",
    "As usual, to use these new modules you'll need to first **install `BeautifulSoup` and `requests` to your virtual environment for this class**. Only once you've completed that process can successfully you run the next cell of code to load in `requests`, `BeautifulSoup`, and other modules.\n",
    "\n",
    "\n",
    "\n"
   ]
  },
  {
   "cell_type": "code",
   "execution_count": 1,
   "metadata": {
    "id": "KIQy8gAoHZ9_"
   },
   "outputs": [],
   "source": [
    "import requests\n",
    "from bs4 import BeautifulSoup\n",
    "\n",
    "import pandas as pd\n",
    "import numpy as np\n",
    "import time\n",
    "\n"
   ]
  },
  {
   "cell_type": "markdown",
   "metadata": {
    "id": "FlYjVsZA3j__"
   },
   "source": [
    "## In-session Example: Cornell University Website\n",
    "\n",
    "The TA will show you [this page about Cornell University](https://www.cornell.edu/about/). This webpage has information about Cornell, including general statistics about number of students, different campus locations, and many links to other Cornell pages.\n",
    "\n",
    "## Viewing HTML\n",
    "Take a look at the HTML of the page. You can view this in a couple of different ways:\n",
    "\n",
    "*   Right click > \"View Page Source\"\n",
    "*   Right click > \"Inspect\"\n",
    "\n",
    "**What differences do you notice between the two HTML views?**\n",
    "\n"
   ]
  },
  {
   "cell_type": "markdown",
   "metadata": {
    "id": "CyAS5Km3KgYI"
   },
   "source": [
    "Today, our goal is to collect and organize various stats about Cornell.\n",
    "\n",
    "We need to put together clues from the structure of the page and the appearance of elements on the page. Appearance is usually determined by the CSS `style` property. Figuring out how to automatically find values from HTML will involve looking at HTML source, ^F searching for values that you want, and figuring out how to identify styles or containing elements. Modern web pages are long and have lots of complicated elements, many of which do not appear as visible content. Starting from the top of the document and reading through is not recommended.\n",
    "\n",
    "You will scrape information from cached copies of \"About Cornell\" pages. These are locally hosted so we don't have hundreds of students hitting Cornell's website at the same time. They probably wouldn't notice, but it's more responsible to keep it local.\n"
   ]
  },
  {
   "cell_type": "code",
   "execution_count": 2,
   "metadata": {
    "id": "EBJxOwcm1Og2"
   },
   "outputs": [],
   "source": [
    "cornell_url = \"https://koenecke.infosci.cornell.edu/files/info2950/About%20Cornell%20University.html\""
   ]
  },
  {
   "cell_type": "markdown",
   "metadata": {
    "id": "KVga8D7A8nHc"
   },
   "source": [
    "The following code does a `GET` request to the web host for the specified filename. HTTP is the protocol used to make web requests. It has a series of \"status codes\" that tell you the result of request. 200 is success. Others you have probably seen: 404 is \"page not found\", 403 is \"you do not have access\". Codes starting with 3-- are often redirects. 500 means there is a bug in the server-side code."
   ]
  },
  {
   "cell_type": "code",
   "execution_count": 3,
   "metadata": {
    "id": "iKMoioQN1PrE"
   },
   "outputs": [],
   "source": [
    "cornell_result = requests.get(cornell_url)\n",
    "if cornell_result.status_code != 200:\n",
    "  print(\"something went wrong:\", cornell_result.status_code, cornell_result.reason)"
   ]
  },
  {
   "cell_type": "markdown",
   "metadata": {
    "id": "s7toLvE68qF5"
   },
   "source": [
    "You're never going to get the analysis of a web page right the first time, so it's good to save a local copy of the HTML source so we don't need to hit the server again."
   ]
  },
  {
   "cell_type": "code",
   "execution_count": 4,
   "metadata": {
    "id": "T--49WBb1Vch"
   },
   "outputs": [],
   "source": [
    "with open(\"cornell_about.html\", \"w\") as writer:\n",
    "  writer.write(cornell_result.text)"
   ]
  },
  {
   "cell_type": "markdown",
   "metadata": {
    "id": "VYSfu-898tcc"
   },
   "source": [
    "Here we're immediately reading the file again, but you could split these into two separate notebooks, one for downloading, one for analysis."
   ]
  },
  {
   "cell_type": "code",
   "execution_count": 5,
   "metadata": {
    "id": "OsuOFDfB1Zxc"
   },
   "outputs": [],
   "source": [
    "with open(\"cornell_about.html\", \"r\") as reader:\n",
    "  html_source = reader.read()"
   ]
  },
  {
   "cell_type": "markdown",
   "metadata": {
    "id": "WCQTpxKf8xbQ"
   },
   "source": [
    "There are a lot of things that can go wrong when you are accessing web documents. Get in the habit of constantly adding confidence checks to make sure the state of variables is what you expect it to be."
   ]
  },
  {
   "cell_type": "code",
   "execution_count": 6,
   "metadata": {
    "colab": {
     "base_uri": "https://localhost:8080/",
     "height": 35
    },
    "id": "K3a1nh1p1gGy",
    "outputId": "4938fb12-e7e4-4c56-c326-fe499b4c0407"
   },
   "outputs": [
    {
     "data": {
      "text/plain": [
       "'<!DOCTYPE html>\\n<htm'"
      ]
     },
     "execution_count": 6,
     "metadata": {},
     "output_type": "execute_result"
    }
   ],
   "source": [
    "# Make sure this worked\n",
    "html_source[:20]"
   ]
  },
  {
   "cell_type": "markdown",
   "metadata": {
    "id": "8e0HyLsI80rh"
   },
   "source": [
    "Here's where we turn the HTML text from a single long string into a searchable tree of tags. `BeautifulSoup` can support different ways of parsing (including XML). Here we'll use an HTML parser."
   ]
  },
  {
   "cell_type": "code",
   "execution_count": 7,
   "metadata": {
    "id": "dG_c_myU1h-7"
   },
   "outputs": [],
   "source": [
    "page = BeautifulSoup(html_source, \"html.parser\")"
   ]
  },
  {
   "cell_type": "markdown",
   "metadata": {
    "id": "t12d_OJf9Iq4"
   },
   "source": [
    "Now that we have a structured document we can ask for specific tags. See the Beautiful Soup documentation linked at the top for more details."
   ]
  },
  {
   "cell_type": "code",
   "execution_count": 8,
   "metadata": {
    "colab": {
     "base_uri": "https://localhost:8080/"
    },
    "id": "FD9w7WBE1j4X",
    "outputId": "5f5eee2a-8ef3-4f67-dbf9-95ac6dd360a6"
   },
   "outputs": [
    {
     "data": {
      "text/plain": [
       "<title>About | Cornell University</title>"
      ]
     },
     "execution_count": 8,
     "metadata": {},
     "output_type": "execute_result"
    }
   ],
   "source": [
    "page.title"
   ]
  },
  {
   "cell_type": "markdown",
   "metadata": {
    "id": "SRj_xxyv_fRp"
   },
   "source": [
    "If you want just the text between the HTML tags, you can use `.text`."
   ]
  },
  {
   "cell_type": "code",
   "execution_count": 9,
   "metadata": {
    "colab": {
     "base_uri": "https://localhost:8080/",
     "height": 35
    },
    "id": "pQdpwDP5_cAU",
    "outputId": "5f96554e-db26-43c5-da15-eb577ff3a14c"
   },
   "outputs": [
    {
     "data": {
      "text/plain": [
       "'About | Cornell University'"
      ]
     },
     "execution_count": 9,
     "metadata": {},
     "output_type": "execute_result"
    }
   ],
   "source": [
    "page.title.text"
   ]
  },
  {
   "cell_type": "markdown",
   "metadata": {
    "id": "TPYxP0Cw9A9g"
   },
   "source": [
    "We can also find all of the instances of a given tag. Since this \"About Cornell\" page seems like more of a landing page, pointing to other resources, we want to use the links on this page to get us to that other linked information. What happens if we ask for all the `a` tags, which [defines a hyperlink](https://www.w3schools.com/tags/tag_a.asp)?"
   ]
  },
  {
   "cell_type": "code",
   "execution_count": 10,
   "metadata": {
    "colab": {
     "base_uri": "https://localhost:8080/"
    },
    "id": "TxUmldHs1mA2",
    "outputId": "12e08e96-ae4b-42a8-94ac-3cbdca8d9d42"
   },
   "outputs": [
    {
     "name": "stdout",
     "output_type": "stream",
     "text": [
      "there are 180 links on the page\n"
     ]
    },
    {
     "data": {
      "text/plain": [
       "[<a href=\"https://www.cornell.edu/about/\">https://www.cornell.edu/about/</a>,\n",
       " <a href=\"https://www.cornell.edu/about/\">current page</a>,\n",
       " <a href=\"http://support.google.com/websearch/bin/answer.py?hl=en&amp;p=cached&amp;answer=1687222\"><span>Learn more</span>.</a>,\n",
       " <a href=\"http://webcache.googleusercontent.com/search?q=cache:FwQY78IHD64J:https://www.cornell.edu/about/&amp;sca_esv=562865996&amp;hl=en&amp;gl=us&amp;strip=1&amp;vwsrc=0\"><span>Text-only version</span></a>,\n",
       " <a href=\"http://webcache.googleusercontent.com/search?q=cache:FwQY78IHD64J:https://www.cornell.edu/about/&amp;sca_esv=562865996&amp;hl=en&amp;gl=us&amp;strip=0&amp;vwsrc=1\"><span>View source</span></a>,\n",
       " <a data-click-action=\"skip to content\" data-click-category=\"header\" href=\"#main\" tabindex=\"1\">Skip to content</a>,\n",
       " <a data-click-action=\"home\" data-click-category=\"header\" href=\"https://www.cornell.edu/\" id=\"cu-brand\" title=\"Cornell.edu Homepage\">\n",
       " <div class=\"cu-logotype\">Cornell University</div>\n",
       " </a>,\n",
       " <a class=\"menu-item\" data-click-label=\"About Cornell\" href=\"https://www.cornell.edu/about\">About Cornell</a>,\n",
       " <a aria-expanded=\"false\" aria-label=\"toggle the About Cornell sub-menu\" class=\"submenu-trigger\" data-click-label=\"About Cornell\" href=\"https://www.cornell.edu/about\"><span class=\"off-screen\">About Cornell</span></a>,\n",
       " <a data-click-label=\"Overview\" href=\"https://www.cornell.edu/about/\">\n",
       " <img alt=\"blue sky over the Arts Quad\" aria-hidden=\"true\" class=\"image-replace\" data-src=\"https://www.cornell.edu/assets/core/images/nav-overview-about.jpg\" src=\"About%20Cornell%20University_files/nav-overview-about.jpg\"/>\n",
       " <span>Overview</span>\n",
       " </a>,\n",
       " <a data-click-label=\"Cornell History\" href=\"https://www.cornell.edu/about/timeline/\">Cornell History</a>,\n",
       " <a data-click-label=\"Maps &amp; Directions\" href=\"https://www.cornell.edu/about/maps/\">Maps &amp; Directions</a>,\n",
       " <a data-click-label=\"Mission\" href=\"https://www.cornell.edu/about/mission.cfm\">Mission &amp; Vision</a>,\n",
       " <a data-click-label=\"Values\" href=\"https://www.cornell.edu/about/values.cfm\">Core Values</a>,\n",
       " <a data-click-label=\"Locations\" href=\"https://www.cornell.edu/about/locations/\">Locations</a>,\n",
       " <a data-click-label=\"Ithaca\" href=\"https://www.cornell.edu/about/locations/ithaca/\">Ithaca</a>,\n",
       " <a data-click-label=\"New York City\" href=\"https://www.cornell.edu/about/locations/nyc/\">New York City</a>,\n",
       " <a aria-label=\"Diversity at Cornell\" data-click-label=\"Diversity\" href=\"https://diversity.cornell.edu/\">Diversity</a>,\n",
       " <a aria-label=\"Indigenous Engagement: Commitment to North American Indigenous Nations and Communities\" data-click-label=\"Indigenous\" href=\"https://indigenous.cornell.edu/\">Indigenous Engagement</a>,\n",
       " <a data-click-label=\"Economic Impact\" href=\"https://economicimpact.cornell.edu/\">Economic Impact</a>]"
      ]
     },
     "execution_count": 10,
     "metadata": {},
     "output_type": "execute_result"
    }
   ],
   "source": [
    "links = page.find_all(\"a\")\n",
    "print(\"there are\", len(links), \"links on the page\")\n",
    "links[:20]"
   ]
  },
  {
   "cell_type": "markdown",
   "metadata": {
    "id": "KZBQzVbH9M9P"
   },
   "source": [
    "Whoa, that's too much! And most of these links seem to be navigation links in header menus.\n",
    "\n",
    "Let's be more specific. Viewing the source, we can search for an interesting string (like \"Facts about Cornell\") and look at the HTML around it.\n",
    "\n",
    "Inspecting the HTML we find that `a` tags can be associated with a number of class styles. The class style for \"Facts about Cornell\" is `link-caret`. Here's how to find all of the `a` tags with this style:"
   ]
  },
  {
   "cell_type": "code",
   "execution_count": 11,
   "metadata": {
    "colab": {
     "base_uri": "https://localhost:8080/"
    },
    "id": "0NcYr_2f1t4L",
    "outputId": "785e3bd0-f7a9-4b9f-8c43-587205216860"
   },
   "outputs": [
    {
     "name": "stdout",
     "output_type": "stream",
     "text": [
      "[<a class=\"link-caret\" href=\"https://www.cornell.edu/about/locations.cfm\" title=\"Cornell around the globe\">\n",
      "  See All Locations\n",
      "</a>, <a class=\"link-caret\" href=\"https://irp.dpb.cornell.edu/university-factbook\" title=\"Facts about Cornell\">\n",
      "  See All University Facts\n",
      "</a>, <a class=\"link-caret\" href=\"https://www.cornell.edu/about/timeline/\" title=\"Cornell's Historical Timeline\">\n",
      "  Explore Cornell's History\n",
      "</a>]\n"
     ]
    }
   ],
   "source": [
    "link_carets = page.find_all(\"a\", {\"class\":\"link-caret\"})\n",
    "print(link_carets)"
   ]
  },
  {
   "cell_type": "markdown",
   "metadata": {
    "id": "yWoAxkMF91Dk"
   },
   "source": [
    "Once we find a tag, we can also access attributes of the tag, like the URL target of a link (`href`) or the text contained within the tag (`.text`)."
   ]
  },
  {
   "cell_type": "code",
   "execution_count": 12,
   "metadata": {
    "colab": {
     "base_uri": "https://localhost:8080/"
    },
    "id": "yGqZLu4F1v0R",
    "outputId": "402e05f5-f2aa-43ad-bdb0-f3c7efd5b0a1"
   },
   "outputs": [
    {
     "name": "stdout",
     "output_type": "stream",
     "text": [
      "\n",
      "  See All Locations\n",
      " https://www.cornell.edu/about/locations.cfm\n",
      "\n",
      "  See All University Facts\n",
      " https://irp.dpb.cornell.edu/university-factbook\n",
      "\n",
      "  Explore Cornell's History\n",
      " https://www.cornell.edu/about/timeline/\n"
     ]
    }
   ],
   "source": [
    "for link in link_carets:\n",
    "  print(link.text, link[\"href\"])"
   ]
  },
  {
   "cell_type": "markdown",
   "metadata": {
    "id": "9diPMwaL9390"
   },
   "source": [
    "## Organizing structured data\n",
    "Now, we want to collect different stats and facts about Cornell, so the table on the right side with \"Quick Facts\" seems like a great place to start. **Our goal is to recreate the \"Quick Facts\" table as a pandas dataframe.**\n",
    "\n",
    "Remember, instead of reading the HTML from start to bottom, use ^F to search for the text \"Undergraduate Students\" (for example).\n",
    "\n",
    "While there are different ways of collecting this tag, you really want to keep the name of the fact and its value together. For this reason, let's collect the list element as a singular unit (with tag `li` and the `stat` class style)."
   ]
  },
  {
   "cell_type": "code",
   "execution_count": 13,
   "metadata": {
    "colab": {
     "base_uri": "https://localhost:8080/"
    },
    "id": "H6wlMDuE1z7D",
    "outputId": "c78299eb-6343-4d94-fea6-78f04bdd48d3"
   },
   "outputs": [
    {
     "name": "stdout",
     "output_type": "stream",
     "text": [
      "6\n"
     ]
    }
   ],
   "source": [
    "cornell_stats = page.find_all(\"li\", {\"class\": \"stat\"})\n",
    "print(len(cornell_stats))"
   ]
  },
  {
   "cell_type": "markdown",
   "metadata": {
    "id": "MxFI-81hDCNR"
   },
   "source": [
    "Now that we have a list of every `li` (list item) with the `stat` class, we can extract the values of the list. Let's start with the first item in this new list:"
   ]
  },
  {
   "cell_type": "code",
   "execution_count": 14,
   "metadata": {
    "colab": {
     "base_uri": "https://localhost:8080/"
    },
    "id": "JuUevyy8DbJO",
    "outputId": "71c8483d-43b5-4e25-9aa7-5aecaff81af4"
   },
   "outputs": [
    {
     "name": "stdout",
     "output_type": "stream",
     "text": [
      "\n",
      "        Undergraduate Students\n",
      "      \n",
      "\n",
      "         15,735\n",
      "       \n"
     ]
    }
   ],
   "source": [
    "print(cornell_stats[0].find(\"div\", {\"class\": \"stat-label\"}).text)\n",
    "print(cornell_stats[0].find(\"div\", {\"class\": \"stat-value\"}).text)"
   ]
  },
  {
   "cell_type": "markdown",
   "metadata": {
    "id": "SUI58jBkDfjG"
   },
   "source": [
    "What's with all that whitespace? You can strip the extra whitespace with `.strip()`."
   ]
  },
  {
   "cell_type": "code",
   "execution_count": 15,
   "metadata": {
    "colab": {
     "base_uri": "https://localhost:8080/"
    },
    "id": "VoyR2jGH2RF7",
    "outputId": "53cfe85d-b306-4126-ca8a-ed4c8543a919"
   },
   "outputs": [
    {
     "name": "stdout",
     "output_type": "stream",
     "text": [
      "Undergraduate Students\n",
      "15,735\n"
     ]
    }
   ],
   "source": [
    "print(cornell_stats[0].find(\"div\", {\"class\": \"stat-label\"}).text.strip())\n",
    "print(cornell_stats[0].find(\"div\", {\"class\": \"stat-value\"}).text.strip())"
   ]
  },
  {
   "cell_type": "markdown",
   "metadata": {
    "id": "NWlLu9ebDOOI"
   },
   "source": [
    "Much better! Now, we can use a loop to extract the label and value from each list item."
   ]
  },
  {
   "cell_type": "code",
   "execution_count": 16,
   "metadata": {
    "colab": {
     "base_uri": "https://localhost:8080/"
    },
    "id": "dYbgOxdW13CQ",
    "outputId": "109fc2f5-37ae-4e58-932f-1f71052562b5"
   },
   "outputs": [
    {
     "name": "stdout",
     "output_type": "stream",
     "text": [
      "Undergraduate Students\n",
      "15,735\n",
      "Graduate Students\n",
      "10,163\n",
      "Faculty\n",
      "2,864\n",
      "Nobel Laureates\n",
      "50\n",
      "Colleges and Schools\n",
      "17\n",
      "undergraduate grant aid (FY23)\n",
      "$407M\n"
     ]
    }
   ],
   "source": [
    "for html_stat in cornell_stats:\n",
    "  print(html_stat.find(\"div\", {\"class\": \"stat-label\"}).text.strip())\n",
    "  print(html_stat.find(\"div\", {\"class\": \"stat-value\"}).text.strip())"
   ]
  },
  {
   "cell_type": "markdown",
   "metadata": {
    "id": "BYfFnvBxDs6e"
   },
   "source": [
    "In reality, you probably don't just want to print these items. You want to store them! Let's use **list comprehension** to create two lists, `labels_l` and `value_l`."
   ]
  },
  {
   "cell_type": "code",
   "execution_count": 17,
   "metadata": {
    "id": "T0S-y8Oa2jRw"
   },
   "outputs": [],
   "source": [
    "label_l = [stat.find(\"div\", {\"class\": \"stat-label\"}).text.strip() for stat in cornell_stats]\n",
    "value_l = [stat.find(\"div\", {\"class\": \"stat-value\"}).text.strip() for stat in cornell_stats]"
   ]
  },
  {
   "cell_type": "markdown",
   "metadata": {
    "id": "20B42tLXD30j"
   },
   "source": [
    "Now, we can store this as a dataframe."
   ]
  },
  {
   "cell_type": "code",
   "execution_count": 18,
   "metadata": {
    "id": "Sui4GiCs2z-w"
   },
   "outputs": [],
   "source": [
    "data = {'Label':label_l, 'Stat':value_l}\n",
    "cornell_df = pd.DataFrame(data)"
   ]
  },
  {
   "cell_type": "code",
   "execution_count": 19,
   "metadata": {
    "colab": {
     "base_uri": "https://localhost:8080/",
     "height": 238
    },
    "id": "4Z1m6LCn29aH",
    "outputId": "86f84b6d-c0c7-4251-be12-3be1745c070e"
   },
   "outputs": [
    {
     "data": {
      "text/html": [
       "<div>\n",
       "<style scoped>\n",
       "    .dataframe tbody tr th:only-of-type {\n",
       "        vertical-align: middle;\n",
       "    }\n",
       "\n",
       "    .dataframe tbody tr th {\n",
       "        vertical-align: top;\n",
       "    }\n",
       "\n",
       "    .dataframe thead th {\n",
       "        text-align: right;\n",
       "    }\n",
       "</style>\n",
       "<table border=\"1\" class=\"dataframe\">\n",
       "  <thead>\n",
       "    <tr style=\"text-align: right;\">\n",
       "      <th></th>\n",
       "      <th>Label</th>\n",
       "      <th>Stat</th>\n",
       "    </tr>\n",
       "  </thead>\n",
       "  <tbody>\n",
       "    <tr>\n",
       "      <th>0</th>\n",
       "      <td>Undergraduate Students</td>\n",
       "      <td>15,735</td>\n",
       "    </tr>\n",
       "    <tr>\n",
       "      <th>1</th>\n",
       "      <td>Graduate Students</td>\n",
       "      <td>10,163</td>\n",
       "    </tr>\n",
       "    <tr>\n",
       "      <th>2</th>\n",
       "      <td>Faculty</td>\n",
       "      <td>2,864</td>\n",
       "    </tr>\n",
       "    <tr>\n",
       "      <th>3</th>\n",
       "      <td>Nobel Laureates</td>\n",
       "      <td>50</td>\n",
       "    </tr>\n",
       "    <tr>\n",
       "      <th>4</th>\n",
       "      <td>Colleges and Schools</td>\n",
       "      <td>17</td>\n",
       "    </tr>\n",
       "    <tr>\n",
       "      <th>5</th>\n",
       "      <td>undergraduate grant aid (FY23)</td>\n",
       "      <td>$407M</td>\n",
       "    </tr>\n",
       "  </tbody>\n",
       "</table>\n",
       "</div>"
      ],
      "text/plain": [
       "                            Label    Stat\n",
       "0          Undergraduate Students  15,735\n",
       "1               Graduate Students  10,163\n",
       "2                         Faculty   2,864\n",
       "3                 Nobel Laureates      50\n",
       "4            Colleges and Schools      17\n",
       "5  undergraduate grant aid (FY23)   $407M"
      ]
     },
     "execution_count": 19,
     "metadata": {},
     "output_type": "execute_result"
    }
   ],
   "source": [
    "cornell_df"
   ]
  },
  {
   "cell_type": "markdown",
   "metadata": {},
   "source": [
    "**Is there any other data cleaning you'd do to this dataframe if you wanted to use it for data science?**"
   ]
  },
  {
   "cell_type": "markdown",
   "metadata": {
    "id": "TvZdPQnG2yZp"
   },
   "source": [
    "## Collecting text\n",
    "Often, when you're scraping a website you aren't just collecting headers and tables. You're also collecting text! Now, you're going to collect the text below \"Our Profile.\" Use ^F to find the first sentence in the HTML.\n",
    "\n",
    "You should find that the text is in a `p` tag below a `div` tag. **What class would you use to extract this `div` tag?**"
   ]
  },
  {
   "cell_type": "code",
   "execution_count": 20,
   "metadata": {
    "colab": {
     "base_uri": "https://localhost:8080/"
    },
    "id": "VdPJcRtD15vH",
    "outputId": "92699824-00ed-438c-fb79-017de4c6c3e4"
   },
   "outputs": [
    {
     "name": "stdout",
     "output_type": "stream",
     "text": [
      "<div class=\"about-block about-profile\">\n",
      "<h3 class=\"cu-title\">\n",
      "    Our Profile\n",
      "  </h3>\n",
      "<p>Cornell is a privately endowed research university and a partner of\n",
      " the State University of New York. As the federal land-grant institution\n",
      " in New York State, we have a responsibility—unique within the Ivy \n",
      "League—to make contributions in all fields of knowledge in a manner that\n",
      " prioritizes public engagement to help improve the quality of life in \n",
      "our state, the nation, the world.</p>\n",
      "<!-- <ul class=\"link-list\">\n",
      "          <li>\n",
      "            <a href=\"/engagement/\" title=\"Public Engagement\">\n",
      "             Public Engagement\n",
      "            </a>\n",
      "          </li>\n",
      "          <li>\n",
      "            <a href=\"http://irp.dpb.cornell.edu/university-factbook\" title=\"All the facts\">\n",
      "              University Factbook\n",
      "            </a>\n",
      "          </li>\n",
      "        </ul>-->\n",
      "</div>\n"
     ]
    }
   ],
   "source": [
    "about_profile = page.find(\"div\", {\"class\":\"about-block about-profile\"}) # THIS CELL WILL NOT EXECUTE UNTIL YOU FILL IN THE CLASS\n",
    "print(about_profile)"
   ]
  },
  {
   "cell_type": "markdown",
   "metadata": {
    "id": "YsHlLrWVFcqF"
   },
   "source": [
    "Before moving on, **do you notice anything odd about the above HTML?**"
   ]
  },
  {
   "cell_type": "markdown",
   "metadata": {
    "id": "YKgFyKs-FOOi"
   },
   "source": [
    "Now, if we want to extract the natural text from the `about_profile` variable, we can use the `p` tag."
   ]
  },
  {
   "cell_type": "code",
   "execution_count": 21,
   "metadata": {
    "colab": {
     "base_uri": "https://localhost:8080/",
     "height": 70
    },
    "id": "Run7tprF17Vw",
    "outputId": "b48902dd-882f-4950-f2c2-ecf2777db3d3"
   },
   "outputs": [
    {
     "name": "stdout",
     "output_type": "stream",
     "text": [
      "Cornell is a privately endowed research university and a partner of\n",
      " the State University of New York. As the federal land-grant institution\n",
      " in New York State, we have a responsibility—unique within the Ivy \n",
      "League—to make contributions in all fields of knowledge in a manner that\n",
      " prioritizes public engagement to help improve the quality of life in \n",
      "our state, the nation, the world.\n"
     ]
    }
   ],
   "source": [
    "print(about_profile.find('p').text)"
   ]
  },
  {
   "cell_type": "markdown",
   "metadata": {
    "id": "xsY8lKVe3gEt"
   },
   "source": [
    "---\n",
    "# Problem 2: Recreating the timeline as a table\n",
    "\n",
    "Earlier, you found links to fact pages about Cornell (stored in `link_carets`). One of those links was to a Cornell Timeline (https://www.cornell.edu/about/timeline/). Take some time to inspect the HTML of the page, and then load the cached version with the link below, create a `BeautifulSoup` object, and find some information about Cornell.\n",
    "\n",
    "Notice the table of data **Cornell Through the Years** with information about Cornell's history. It looks like each event includes three types of information:\n",
    "\n",
    "1.   Event year\n",
    "2.   Event title\n",
    "3.   Event summary\n",
    "\n",
    "Use `BeautifulSoup` and `requests` to scrape this data and format it as a data frame with one column for the year, another for the title, and a third for the summary."
   ]
  },
  {
   "cell_type": "markdown",
   "metadata": {
    "id": "UVaEkWjLW_6M"
   },
   "source": [
    "1. Use the requests library to `get` the website's HTML. Check the status code."
   ]
  },
  {
   "cell_type": "code",
   "execution_count": 22,
   "metadata": {
    "id": "ZsGr_ZUI2WWG"
   },
   "outputs": [],
   "source": [
    "timeline_url = \"https://koenecke.infosci.cornell.edu/files/info2950/About%20Cornell%20University%20Timeline.html\""
   ]
  },
  {
   "cell_type": "code",
   "execution_count": 23,
   "metadata": {
    "id": "EZV2RMBt3m_H"
   },
   "outputs": [],
   "source": [
    "# your code here\n",
    "timeline_result = requests.get(timeline_url)\n",
    "if timeline_result.status_code != 200:\n",
    "  print(\"something went wrong:\", timeline_result.status_code, timeline_result.reason)"
   ]
  },
  {
   "cell_type": "markdown",
   "metadata": {
    "id": "w8LpCymIXNPA"
   },
   "source": [
    "2. Convert what you retrieved with the `requests` library to a text string.\n",
    "\n",
    "\n"
   ]
  },
  {
   "cell_type": "code",
   "execution_count": 35,
   "metadata": {
    "id": "OzFyt2vv4O0E"
   },
   "outputs": [
    {
     "name": "stdout",
     "output_type": "stream",
     "text": [
      "<!DOCTYPE html>\n",
      "<!--\n"
     ]
    }
   ],
   "source": [
    "# your code here\n",
    "timeline_source = timeline_result.text\n",
    "print(timeline_source[:20])"
   ]
  },
  {
   "cell_type": "markdown",
   "metadata": {
    "id": "iTg5_CzZYma8"
   },
   "source": [
    "3. Parse the text as HTML with BeautifulSoup."
   ]
  },
  {
   "cell_type": "code",
   "execution_count": 36,
   "metadata": {
    "id": "Fuz27p9Q31IJ"
   },
   "outputs": [],
   "source": [
    "# your code here\n",
    "abtpage = BeautifulSoup(timeline_source, \"html.parser\")"
   ]
  },
  {
   "cell_type": "markdown",
   "metadata": {
    "id": "ZwSAn-x7Yr-w"
   },
   "source": [
    "4. Identify the HTML tag and class above the year, title, and summary text. Find all occurences of this tag and save it to a list."
   ]
  },
  {
   "cell_type": "code",
   "execution_count": 41,
   "metadata": {
    "colab": {
     "base_uri": "https://localhost:8080/"
    },
    "id": "XhiSmL9h4LIS",
    "outputId": "4c12f113-dacd-4706-8302-323750bfc09d"
   },
   "outputs": [
    {
     "name": "stdout",
     "output_type": "stream",
     "text": [
      "108\n"
     ]
    }
   ],
   "source": [
    "# your code here\n",
    "contentList= abtpage.find_all(\"div\", {\"class\":\"item-content\"})\n",
    "print(len(contentList))\n",
    "#for timeline in cornell_time"
   ]
  },
  {
   "cell_type": "markdown",
   "metadata": {
    "id": "Fv7qPVzZY9RT"
   },
   "source": [
    "5. Access the year, title, and summary text at the 10th index position. Print these."
   ]
  },
  {
   "cell_type": "code",
   "execution_count": 43,
   "metadata": {
    "colab": {
     "base_uri": "https://localhost:8080/"
    },
    "id": "uTGUOlmS4sua",
    "outputId": "1ecf1049-3669-4dc7-9407-4a2f2f471775"
   },
   "outputs": [
    {
     "name": "stdout",
     "output_type": "stream",
     "text": [
      "1880\n",
      "\n",
      "Preston is first female doctoral graduate\n",
      "\n",
      "\n",
      "American educator and suffragist May Preston Slosson\n",
      " Ph.D. 1880 becomes the first woman in the country to earn a Ph.D. in \n",
      "philosophy. She is also Cornell's first female doctoral graduate.\n",
      "\n"
     ]
    }
   ],
   "source": [
    "# your code here\n",
    "print(contentList[9].find('div', {'class':'item-year'}).text)\n",
    "print(contentList[9].find('div', {'class':'item-title'}).text)\n",
    "print(contentList[9].find('div', {'class':'item-desc'}).text)"
   ]
  },
  {
   "cell_type": "markdown",
   "metadata": {
    "id": "WuBB_nwAZTlQ"
   },
   "source": [
    "6. Collect all years, titles, and summaries in the list of timeline events. Add each of these to a list (`year_l`, `title_l`, and `summary_l`)."
   ]
  },
  {
   "cell_type": "code",
   "execution_count": 44,
   "metadata": {
    "id": "a0J29HLt5AIs"
   },
   "outputs": [
    {
     "name": "stdout",
     "output_type": "stream",
     "text": [
      "['1862', '1865', '1868', '1868', '1870', '1871', '1873', '1875', '1876', '1880', '1885', '1887', '1888', '1890', '1894', '1894', '1898', '1901', '1901', '1902', '1905', '1905', '1906', '1907', '1909', '1910', '1910', '1914', '1914', '1914', '1915', '1915', '1917', '1918', '1921', '1922', '1923', '1925', '1928', '1931', '1932', '1935', '1936', '1937', '1941', '1945', '1946', '1947', '1948', '1949', '1953', '1958', '1960', '1961', '1963', '1963', '1963', '1964', '1964', '1966', '1967', '1967', '1968', '1968', '1968', '1969', '1969', '1970', '1970', '1971', '1972', '1973', '1974', '1977', '1983', '1985', '1985', '1985', '1987', '1990', '1991', '1992', '1993', '1993', '1994', '1997', '1999', '2000', '2001', '2001', '2004', '2007', '2008', '2008', '2012', '2013', '2014', '2014', '2015', '2017', '2017', '2019', '2020', '2020', '2020', '2021', '2022', '2022']\n",
      "['\\nA mission to serve New York state\\n', '\\nCornell charter signed into law\\n', '\\nCornell chimes ring for the first time\\n', '\\nCornell University opens\\n', '\\nSibley funds creation of engineering college\\n', '\\nTrustees approve School of Architecture\\n', '\\nEastman is first female graduate\\n', \"\\nCoeducation: the 'Great Experiment'\\n\", '\\nDaniel Salmon earns first DVM degree in America\\n', '\\nPreston is first female doctoral graduate\\n', '\\nSmith pioneers medical research\\n', '\\nCollege of Law holds first classes\\n', '\\nAgriculture college formed\\n', '\\nFirst African American graduates\\n', '\\nVeterinary college chartered\\n', '\\nFirst woman in the U.S. earns a Ph.D. in psychology\\n', '\\nMedical College founded in New York City\\n', '\\nFirst Chinese student graduates\\n', \"\\nInaugural 'Spring Day'\\n\", '\\nCarrier creates a new way to stay cool\\n', '\\nGroundbreaking author Fauset graduates\\n', '\\nA colorful nickname for Cornell\\n', '\\nAlpha Phi Alpha, the first Black fraternity, is founded\\n', '\\nDepartment of Home Economics created\\n', '\\nFirst Native American student graduates\\n', \"\\nCornell Orchards' first fruit trees\\n\", '\\nKimball is first woman DVM in the country\\n', '\\nShih graduates\\n', '\\nCooperative Extension service formalized\\n', '\\nFirst-known recording of the Alma Mater\\n', '\\nCornell Lab of O takes wing\\n', '\\nFirst Big Red gridiron test\\n', '\\nUnited States enters World War I\\n', '\\n“The Elements of Style” is published\\n', '\\nAuthor E. B. White graduates\\n', '\\nThe world’s first undergraduate hospitality degree program is born\\n', '\\nVan Rensselaer named one of 12 \"greatest\" women in the U.S.\\n', '\\nFirst African American to earn mathematics Ph.D.\\n', '\\nResearcher develops cancer test\\n', '\\nDesigned by a Cornellian, Empire State Building opens\\n', '\\nBuck wins Pulitzer Prize\\n', '\\nCornell bread is born\\n', '\\nFirst female photojournalist for Life magazine\\n', '\\nPlaywright, screenwriter and director Laurents graduates\\n', '\\nUnited States enters World War II\\n', '\\nNew York State legislature establishes ILR School\\n', '\\nSchool of Business and Public Administration opens\\n', '\\nCorrespondence with Einstein leads to creation of television camera tube\\n', '\\nNabokov arrives in Ithaca\\n', '\\nNoyes donates copy of Gettysburg Address\\n', \"\\nAmerica's first accredited wine course offered at School of Hotel Administration\\n\", '\\nGreatbatch and the first pacemaker\\n', '\\nFuture U.S. Attorney General Reno graduates\\n', '\\nGogolak transforms place kicking\\n', '\\nChicken takes on a new form: chicken nuggets\\n', '\\nArecibo Observatory opens\\n', '\\nPuff, the Magic Dragon born at Cornell, not Honalee\\n', '\\nCommittee on Special Educational Projects launches\\n', '\\nA new sound defines an era\\n', '\\nFuture NIAID director Fauci graduates\\n', '\\nMen’s hockey team wins first NCAA title\\n', '\\nInnovation underground\\n', '\\nCollingwood is first U.S. network journalist in North Vietnam\\n', '\\nRNA structure discovery leads to Nobel Prize\\n', '\\nSagan arrives at Cornell\\n', '\\nThe Cornell Conference on Women convenes\\n', '\\nGrumman helps humanity reach new heights\\n', '\\nRedding is first African American full professor in Arts and Sciences\\n', '\\nDNA sequencing and fundamental tools for DNA cloning developed\\n', '\\nBig Red lax wins first NCAA title\\n', '\\nSy Katz starts a little rogue parade\\n', '\\nHerbert F. Johnson Art Museum opens\\n', '\\nActor Reeve graduates\\n', '\\nDeadheads at Cornell\\n', '\\nMcClintock receives Nobel Prize in Medicine\\n', '\\nThe world as a campus\\n', '\\nHarmon becomes first Cornellian to win Super Bowl ring\\n', '\\nCornell in Washington program celebrates permanent D.C. home\\n', '\\nAsian American Studies program founded\\n', '\\nWuDunn shares Pulitzer Prize for International Reporting\\n', '\\nPublic Service Center is created\\n', '\\nJemison takes Cornell to new heights\\n', '\\nBader Ginsburg joins Supreme Court\\n', '\\nBill Nye the Science Guy premieres\\n', '\\nLesbian, bisexual & gay studies established\\n', '\\n“Pumpkin watch” begins\\n', '\\nCornell Prison Education Program begins\\n', '\\nLake source cooling brings Cayuga’s chill to campus\\n', '\\nCornell establishes medical college in Qatar\\n', '\\nFirst-year students move into North Campus\\n', '\\nMars Rover discoveries are Science’s Breakthrough of the Year\\n', '\\nA Madison Square Garden hockey tradition is born\\n', '\\nDíaz wins Pulitzer Prize for Fiction\\n', '\\nWomen’s basketball claims first Ivy Title\\n', '\\nHuman Ecology Building earns LEED Platinum Rating\\n', '\\nDake named SI College Athlete of the Year\\n', '\\nAbrams receives National Humanities Medal\\n', '\\nRev incubator supports entrepreneurs in Ithaca\\n', '\\nFirst puppies born by in vitro fertilization\\n', '\\nCornell Tech campus is dedicated in New York City\\n', '\\nGift names Cornell SC Johnson College of Business\\n', '\\nCornell veterinarians become the official vets of Westminster\\n', '\\nCornell adapts, gives back in face of COVID-19 pandemic\\n', '\\nCornell forms school of public policy and university-wide departments\\n', '\\nGift establishes new college of computing and information science\\n', '\\nPerseverance Lands on Mars\\n', '\\nNorth campus reshapes campus residential community\\n', '\\nTwo-mile deep borehole explores potential for carbon-neutral heat\\n']\n",
      "['\\nThe\\n Morrill Land-Grant Act allows the federal government to appropriate \\npublic land, much of which had been expropriated from Indigenous Nations\\n across the U.S., to develop and support public colleges. Three years \\nlater, Cornell is chartered as  New York’s land-grant university and charged with improving the lives and livelihoods of the state’s citizens through teaching, research and public service.\\n', \"\\nOn April 27, state senators Andrew Dickson White and Ezra Cornell win passage of the bill that charters Cornell University\\n establishing the university at the location of Ezra Cornell’s farm in \\nIthaca. Three years later, Cornell admits its first students and \\ninaugurates A.D. White as Cornell's first president.\\n\", \"\\nThe original set of nine bells first rings out at the university's opening ceremonies. Over time, the chimes have been recast and expanded to 21 bells. Presently three concerts are performed each day while classes are in session.\\n\", '\\nInitially\\n divided into two parts — the Division of the Special Sciences and Arts \\nand the Division of Science, Literature and the Arts — Cornell opens its\\n doors on October 7 under the leadership of its first president, A.D. \\nWhite. The university welcomes 26 professors and 412 students, the \\nlargest entering class at any American university.\\n', '\\nHiram \\nSibley, one of the 10 incorporators of Cornell, provides funds to house \\nand support the Sibley College of Mechanical Engineering and Mechanic \\nArts. In 1921, a unified College of Engineering\\n combines mechanical and civil engineering. Today, Sibley Hall is the \\nheadquarters for the College of Architecture, Art, and Planning.\\n', \"\\nPersuaded\\n by the advocacy — and architectural book collection — of President A.D.\\n White, the trustees agree to found a school of architecture, the first \\nfour-year course in the United States. Charles Babcock is appointed as \\nthe first professor of architecture. Today's Architecture, Art and Planning is an internationally-recognized leader.\\n\", \"\\nEmma Sheffield Eastman 1873, a transfer student from Vassar, becomes the first woman to graduate from Cornell. After teaching science and math for a year in Portland, Maine, she works for women's suffrage for much of her life.\\n\", '\\nSage \\nCollege, constructed to house women students at Cornell, welcomes 25 \\nfemale students, making Cornell a pioneer in coeducation and attracting \\nmany applicants. Early graduates include two college presidents, Julia \\nJosephine Thomas Irvine 1875 (Wellesley) and Martha Carey Thomas 1877 \\n(Bryn Mawr); a publisher and author, Ruth Putnam 1878; and noted Cornell\\n professor and scientist, Anna Botsford Comstock 1885.\\n', '\\nCornell confers the first Doctor of Veterinary Medicine (DVM) degree in the United States to Daniel Elmer Salmon\\n DVM 1876, who later serves as the first chief of the U.S. Bureau of \\nAnimal Industry. He is best known today for pioneering the fight against\\n contagious diseases.\\n', \"\\nAmerican educator and suffragist May Preston Slosson\\n Ph.D. 1880 becomes the first woman in the country to earn a Ph.D. in \\nphilosophy. She is also Cornell's first female doctoral graduate.\\n\", '\\nTheobald\\n Smith 1881, an epidemiologist who studied Texas cattle fever, \\nanaphylaxis, and hog cholera, discovers the first Salmonella bacterium \\nwhile working for the United States Department of Agriculture. He names \\nthe species after fellow Cornell graduate Daniel Elmer Salmon DVM 1876.\\n', '\\nThe College of Law begins operations in Morrill Hall with Judge Douglas Boardman as the first dean. The department is renamed Cornell Law School in 1925.\\n', '\\nThe \\nDepartment of Agriculture (established in 1874) merges with the \\ndepartments of agricultural chemistry, botany, entomology and veterinary\\n medicine to form the Cornell College of Agriculture.\\n Sixteen years later, the New York state legislature followed the \\nfederal lead and voted to provide ongoing funding to the college, \\nestablishing the New York State College of Agriculture at Cornell, \\nadding “and Life Sciences” in 1971.\\n', '\\nCharles Chauveau Cook\\xa01890 and Jane Eleanor Datcher\\xa01890 become the first African Americans to graduate from Cornell after a four-year course of study. George Washington Fields\\xa01890,\\n a formerly enslaved person, becomes the first African American graduate\\n of Cornell Law School and one of the first people of color to graduate \\nfrom any law school in the United States.\\n', '\\nThe state legislature charters the New York State Veterinary College, the first state-supported college at Cornell, though veterinary medicine had been taught at Cornell since the university opened.\\n The college opens officially in 1896 in the current location of Uris \\nHall and later moves to east campus when Shurman Hall is completed in \\n1957.\\n', '\\nMargaret Floy Washburn Ph.D. 1894 is the first woman in the United States granted a Ph.D. in psychology.\\n', \"\\nCornell's Medical College\\n is founded, officially opening in New York City in 1900. Today, in a \\njoint campus with New York-Presbyterian Hospital, Weill Cornell Medical \\nCollege is among the most esteemed clinical and medical research centers\\n in the country.\\n\", \"\\nSao-Ke Alfred Sze\\xa01901,\\n Cornell's first Chinese student, graduates. He becomes China’s first \\nambassador to the U.S. and a founding member of the World Bank.\\n\", '\\nThe first-recorded Spring Day takes place April 15, celebrating the end of winter. Students skip classes and mount variety shows and festivities. Today, Slope Day is a student-favorite tradition held on Libe Slope to celebrate the last day of classes with live music and entertainment.\\n', '\\nEngineer\\n Willis Carrier 1901 invents the first electrical air conditioning unit \\nand goes on to found the Carrier Corporation, which remains a world \\nleader in heating, ventilation and air conditioning (HVAC) systems.\\n', '\\nJessie Redmon Fauset\\xa01905 excels in her studies and is one of the first Black women elected to Phi Beta Kappa.\\n Fauset becomes the literary editor of the magazine Crisis (published by\\n the NAACP) in 1919 and in addition to writing essays, poetry and short \\nstories for Crisis, she publishes four novels and comes to be regarded \\nas the “midwife” of the Harlem Renaissance for guiding writers such as \\nCountee Cullen and Langston Hughes.\\n', \"\\nCornell's colors were carnelian red and white since its founding, but the university didn't acquire a nickname until Romeyn Berry\\xa01904 sat down to write a song for the Cornell football team.\\n To urge the team on to victory, Berry refers to Cornell simply as the \\n“big red team”. It catches on. Since that time the chant of “Go Big Red”\\n is the common thread at every Cornell sporting event.\\n\", '\\nThe first intercollegiate Greek-letter fraternity for Black men,\\n Alpha Phi Alpha, is founded at Cornell. It builds approximately 900 \\nchapters across the country and has championed civil rights; its \\nillustrious alumni include Martin Luther King, Jr., W.E.B. Du Bois, Duke\\n Ellington and Thurgood Marshall.\\n', '\\nThe \\nDepartment of Home Economics is created within the College of \\nAgriculture. In 1925, the program becomes the first state-chartered \\ncollege of Home Economics in the country. The college is renamed the New\\n York State College of Human Ecology in 1969 to reflect its interdisciplinary exploration of the human experience.\\n', \"\\nMarvin Jack\\n (Tuscarora) 1909 becomes Cornell's first Native American student to \\nearn a bachelor's degree. The first true cohort of Indigenous students \\nwould arrive at Cornell in the 1920s, in part due to the work of Dr. Erl Bates.\\n\", '\\nThe first fruit trees are planted at the Cornell Orchards\\n and some are still thriving today. Cornell Orchards has more than 22 \\nacres under cultivation, with apples being the main product. Scientists \\nin the Cornell College of Agriculture and Life Sciences have \\nreleased\\xa0more than 69 apple varieties throughout the college’s history.\\n', '\\nFlorence Kimball DVM 1910, the first woman in the United States to receive the Doctor of Veterinary Medicine (DVM)\\n degree, graduates from Cornell. Seven of the first 11 women to become \\nlicensed veterinarians in this country are Cornell graduates.\\n', \"\\nHu Shih\\xa01914\\n revolutionizes the Chinese language with a movement to change literary \\nwriting from a strict classical style to a modern, vernacular style. \\nShih is later president of Peking University, China's ambassador to the \\nUnited States and nominee for a Nobel Prize in literature. In 2021, a North Campus residence hall\\xa0was named in his honor.\\n\", \"\\nCornell Cooperative Extension is established, following the Smith-Lever Act. Rooted in every county of the state, Cornell Cooperative Extension translates Cornell's world-class research into practical, real-world knowledge that helps New York state residents, businesses and communities to thrive.\\n\", '\\nOn January 5, 1914, the Cornell Daily Sun reports that the Cornell Glee Club had recorded the Alma Mater at the Columbia Phonograph Company in New York City. Records become available for purchase within two or three months.\\n', '\\nThe Cornell Laboratory of Ornithology is established. Today, the laboratory is a world leader in the study, appreciation and conservation of birds\\n with a goal to “advance the understanding of nature and to engage \\npeople of all ages in learning about birds and protecting the planet.”\\n', '\\nCornell defeats Gettysburg, 13-0, in its first football game on Schoellkopf Field. Cornell finishes the season undefeated, marking its first national championship year.\\n', \"\\nThe United States Congress declares war on Imperial Germany. By war's end, Cornell provides a total of 4,598 commissioned officers\\n to the war effort. Five Cornell pilots become aces, three physicians \\nserve as the first American women to hold Army rank after receiving \\ncommissions from the French army and 265 Cornell alumni give their lives serving in the armed forces.\\n\", '\\nWilliam Strunk Ph.D. 1896 writes “The Elements of Style” — later expanded by E.B. White 1921 — considered one of the most influential books written in English.\\n', \"\\nE. B. White\\xa01921, New Yorker essayist, author of “Charlotte's Web” and co-author of the revised version of “The Elements of Style,” graduates with a degree in English.\\n\", '\\nThe Cornell School of Hotel Administration\\xa0(later named the Nolan School of Hotel Administration), the world’s first undergraduate hospitality management degree program,\\n was created at the request of leading hotel magnates and the American \\nHotel Association. The program launches with 21 students under the \\ndirection of a single professor, Howard B. Meek.\\n', \"\\nThe League of Women Voters names Martha Van Rensselaer, professor of home economics, one of the 12 greatest women in the United States (alongside the Class of 1877's Anna Botsford Comstock and M. Carey Thomas). Under Van Rensselaer's and Flora Rose’s leadership, the Department of Home Economics becomes the School of Home Economics in 1919, and eventually the New York State College of Home Economics in 1925.\\n\", '\\nElbert Cox Ph.D. 1925 becomes the first African American in history to earn a doctorate in mathematics\\n and is later the first African American to be inducted into the \\nAmerican Mathematical Society. Cox goes on to teach at Howard University\\n from 1930 to 1966 and serves as head of the mathematics department from\\n 1954 to 1961.\\n', '\\nGeorge Papanicolaou (Dr. Pap) at Weill Cornell Medical College\\n first presents a research paper explaining his ideas of using vaginal \\nsmears to detect uterine cancer. Now known as the Pap smear, the simple \\nprocedure has become the standard in screening for cervical cancer.\\n', \"\\nThe \\nEmpire State Building, the world's tallest building from 1931 to 1970, \\nopens in midtown Manhattan. The building is designed by Cornell graduate\\n Richmond Harold Shreve\\xa01902, co-founder of the architectural firm Shreve, Lamb & Harmon. Shreve, Lamb & Harmon later designed Olin, Kimball and Thurston halls on the Cornell campus.\\n\", '\\nPearl S. Buck, M.A. 1925, wins a Pulitzer Prize for her second novel, “The Good Earth.” In 1938, Buck would go on to win a Nobel Prize in Literature, becoming the first American woman to do so.\\n', '\\nClive McCay’s nutrition research led to the development of nutritionally-sound rations during WWII and the creation of Cornell bread, an inexpensive alternative to other great staples.\\n', '\\nMargaret Bourke-White\\xa01927 was the first American female war photojournalist and the first female photographer for Life magazine.\\n', \"\\nArthur\\n Laurents ’37, the playwright, screenwriter and director who would go on\\n to write two of Broadway's landmark shows, Gypsy and West Side Story, \\ngraduates from Cornell. His film credits include “The Way We Were,” \\n“Anastasia,” with Ingrid Bergman and “The Turning Point,” with Anne \\nBancroft and Shirley MacLaine.\\n\", \"\\nThe \\nattack on Pearl Harbor brings the United States into World War II. After\\n Pearl Harbor, Cornell reacts swiftly to the crisis, enlarging and \\naccelerating its programs. By the war's end in 1945, more than 480 Cornell alumni give their lives while serving in the U.S. armed forces.\\n\", '\\nThe New York State legislature passes the bill to establish the School of Industrial and Labor Relations to improve industrial and labor conditions in the state. The first four-year school of its kind,\\n ILR builds community partnerships and brings thought leadership into \\npractice for workers, unions, organizations and communities to improve \\nthe world of work.\\n', '\\nCornell’s\\n School of Business and Public Administration begins operation, offering\\n business programs to graduate students. Today, the Samuel Curtis Johnson Graduate School of Management has over 15,000 alumni and works with 65 corporate partners to create better business solutions across the globe.\\n', \"\\nWhile working at the Naval Ordnance Laboratory, Ernest Sternglass\\n ’44, M.S. ’51, Ph.D. ’53 observes a phenomenon different from Albert \\nEinstein's photoelectric effect. Sternglass’s research, informed by a \\nmeeting with Einstein in 1947, leads to the development of a highly \\nsensitive television camera tube that enables millions to watch Neil \\nArmstrong’s first steps on the moon in July 1969.\\n\", '\\nVladimir Nabokov\\n and his family arrive in Ithaca, with Nabokov beginning his duties as a\\n professor of Russian literature at Cornell. During his more than 10 \\nyears at Cornell, Nabokov becomes famous as the author of “Lolita” and “Pnin” and becomes known on campus as a lecturer not to be missed.\\n', \"\\nIn recognition of her husband's nearly 50 years of service to Cornell and its ideals, Marguerite Lilly Noyes presents the Nicholas H. Noyes Collection of Historical Americana‚ including a copy of the Gettysburg Address handwritten by Abraham Lincoln‚ to Cornell University Library. Nicholas Noyes was a member of the Class of 1906.\\n\", '\\nThe first accredited wine appreciation course in American collegiate history is offered to School of Hotel Administration (SHA) juniors and seniors, with guest lectures from seven leading New York and California vintners.\\n', '\\nSurgeons\\n at the Veterans Administration hospital in Buffalo, New York, test the \\nfirst practical implantable pacemaker, designed by Wilson Greatbatch ’50. His pacemaker, patented in 1962, is regarded as one of the greatest inventions of the 20th century.\\n', '\\nJanet Reno\\n ’60 graduates with a degree in chemistry. Reno would go on to be \\nnominated for U.S. Attorney General by President Bill Clinton in 1993, \\nbecoming the first woman to serve in the post and the second-longest \\nserving attorney general in U.S. history.\\n', '\\nPeter Gogolak\\n ’64 kicks a 41-yard field goal soccer-style against Princeton. Gogolak,\\n who went on to kick for the Buffalo Bills and New York Giants, \\nrevolutionized place kicking and making soccer-style kicking the norm \\nthroughout football.\\n', '\\nRobert C. Baker\\n and his colleague Joseph Marshall propose a first-ever chicken stick, \\nmade of ground, blended and frozen chicken. Baker, a professor of \\npoultry science, also creates over 50 other products made from chicken \\nand eggs, including chicken hot dogs.\\n', \"\\nThe Arecibo Observatory\\n opens in Puerto Rico. Designed by Cornell physicist and astronomer \\nWilliam E. Gordon Ph.D. ’53, the observatory's 1,000-foot radio \\ntelescope is the world's largest single-aperture telescope for several \\ndecades. The telescope closes permanently in November 2020, following the breaks of two cables that support the structure.\\n\", \"\\nThe folk trio Peter, Paul and Mary (including Peter Yarrow\\n ’59) releases the single “Puff, the Magic Dragon,” which is based on a \\npoem written in 1959 by then-freshman Lenny Lipton '62. The single \\nreaches number two on the Billboard Hot 100.\\n\", '\\nFirst convened in 1963, the Committee on Special Educational Projects (COSEP) officially launches by Dr. James Perkins,\\n the seventh president of Cornell. The first program of its kind at a \\nmajor American university, increases the number of Black students \\nenrolled from eight to over 250 during Perkins’ presidency.\\n', '\\nRobert Moog\\n Ph.D. ’65 debuts the electronic analog Moog Synthesizer, one of the \\nfirst widely used electronic musical instruments. The invention \\nintroduces a new landscape of sound to the music world, with organic, \\nrich tones embraced by greats such as the Beatles, Pink Floyd and Stevie\\n Wonder.\\n', '\\nAnthony Fauci\\n M.D. ’66 graduates with his Doctor of Medicine. Fauci goes on to serve \\nas the director of the National Institute of Allergy and Infectious \\nDiseases and as chief medical advisor to President Joe Biden. President \\nGeorge W. Bush awards Fauci the Presidential Medal of Freedom in 2008 \\nfor his contributions to an AIDS relief program, PEPFAR.\\n', '\\nPlaying in its first Frozen Four, the Big Red hockey squad\\n defeats Boston University, 4-1, at the War Memorial Arena in Syracuse, \\nNew York to win its first NCAA hockey championship. The team again wins the title in 1970 with a 29-0-0 record‚ the only unbeaten, untied national championship season in NCAA hockey history.\\n', \"\\nAt\\n its opening, the Wilson Synchrotron is Cornell's largest single \\nconstruction and the world's largest particle accelerator, for use in \\nphysics, materials science and biology. With expansions over the years,\\n the facility includes a tunnel buried 40 feet beneath Cornell's track \\ncomplex, creating a giant ring with a half-mile circumference.\\n\", '\\nCBS News broadcasts an Emmy Award-nominated personal documentary on the North Vietnamese capital by Charles Collingwood\\n ’39 titled “Hanoi: A Report By Charles Collingwood.” The chief foreign \\ncorrespondent for CBS News, Collingwood is the first American network \\njournalist to visit North Vietnam and his reports earn him an Overseas \\nPress Club Award.\\n', '\\nRobert W. Holley\\n wins the Nobel Prize in Physiology or Medicine for his work \\ninterpreting the genetic code and its function in protein synthesis. \\nHolley was the first to isolate and map the structure of transfer RNA‚ \\nor tRNA‚ a key molecule that carries amino acids to ribosomes to produce\\n proteins.\\n', '\\nA star of science and the small screen, astronomy and space sciences professor and director of the Laboratory for Planetary Studies, Carl Sagan\\n shares his sense of wonder about nature through the 1980s PBS series \\n“Cosmos; A Personal Voyage” and his Pulitzer Prize-winning book, “The \\nDragons Research Stations of Eden.” In 2015, the Carl Sagan Institute was founded at Cornell to explore other worlds both inside and outside our solar system.\\n', \"\\nThe Cornell Conference on Women\\n takes place over a four-day period during winter intersession. Sessions\\n attract more than 2,000 attendees from Cornell and the Ithaca \\ncommunity. Betty Friedan and Kate Millett return to campus for the conference. Three years later, on March 31, 1972, the Women's Studies Program is founded, one of the earliest programs of its kind in the country.\\n\", '\\nAn aeronautical engineer, test pilot and industrialist, Leroy Randle Grumman\\xa01916\\n co-founds Grumman Aeronautical Engineering in 1929. On July 20, 1969, \\nthe Grumman-made Apollo lunar module carries astronauts Neil Armstrong \\nand Buzz Aldrin to make the first landing on the moon.\\n', \"\\nJ. Saunders Redding is named the Ernest I. White Professorship in American Studies, making him the first full African American professor in the College of Arts and Sciences\\n and the first African American to hold an endowed professorship in \\nliterary criticism at an Ivy League university. At Redding’s insistence,\\n Humane Letters was added to the professorship's title and remains there\\n to this day.\\n\", '\\nPlant genetics pioneer Ray Wu\\n invents the first method for sequencing DNA, enabling researchers to \\nmore closely understand how genes work. Wu’s invention leads to further \\ndevelopment of widely grown rice plants resistant to pests, drought and \\nsalt.\\n', '\\nIn the first-ever NCAA lacrosse tournament the Big Red beats Maryland, 12-6, to win its first NCAA championship.\\n', '\\nFollowing\\n the Cornell-Columbia rivalry football game in New York City, Cornell \\nand Big Red Band enthusiast Seymour “Sy” Katz ’31 drums up a one-block \\nparade down 50th Street to the Cornell Club. Today, the semi-annual Sy Katz ’31 Parade is a chance for the Big Red Band to shine and for Cornellians to showcase their Big Red pride.\\n', '\\nDesigned by I.M. Pei & Partners, the museum‚\\n named for its benefactor and graduate of the class of 1922‚ typically \\nwelcomes more than 80,000 visitors annually. Holdings include 35,000 \\nworks from cultures around the world representing six millennia.\\n', \"\\nChristopher Reeve\\n ’74, a film and stage actor best known for his portrayal of Superman, \\ngraduates with a degree in English. Reeve followed in his father's \\nfootsteps to attend Cornell and\\xa0following an equestrian accident in\\n 1995 that left him paralyzed, became a tireless advocate for the \\ndisabled and for medical research until his death in 2004.\\n\", \"\\nBased solely on \\naudience recordings, future Grateful Dead archivist Dick Latvala \\ndeclares one show in the band's 1977 tour possibly their best \\nperformance ever. That show? The Grateful Dead's concert in Barton Hall, a you-had-to-be-there moment.\\n\", '\\nCytogeneticist Barbara McClintock\\n ’23, M.A. ’25, Ph.D. ’27 receives the 1983 Nobel Prize in Physiology \\nand Medicine for her discovery of mobile genetic elements, also known as\\n genetic transposition. She becomes the first woman in history to win an\\n unshared Nobel Prize in Physiology or Medicine. In 2021, Cornell honors\\n her memory with a name for a new North Campus residence hall.\\n', \"\\nThe Cornell Abroad\\n program begins, offering a wide array of opportunities for a meaningful\\n international experience as part of a student's education‚ university \\nstudy, language skills, fieldwork, service learning, internships and \\nresearch.\\n\", '\\nFollowing a stellar football career at Cornell, Derrick Harmon\\n ’84 is a ninth-round draft pick by the San Francisco 49ers in 1984. In \\nthe following season he becomes the first Cornellian to win a Super Bowl\\n ring.\\n', '\\nThe Cornell in Washington (CIW) program celebrates its permanent home at 2148 O Street NW. Supporters mark the occasion by transplanting ivy from the Cornell Botanic Gardens on the walls of the building and soaking it with water from Beebe Lake. The Dupont-neighborhood building is renamed the Cornell University Wolpe Center in 2003.\\n', \"\\nCornell's Asian American Studies program,\\n the first of its kind in the Ivy League, focuses on the transnational, \\ncomparative and interdisciplinary dimensions of Asian America. Courses \\nprovide a cultural, historical, social and political context for \\nunderstanding Asian Americans' place within the university and beyond.\\n\", '\\nSheryl WuDunn\\n ’81, a history major, and her husband, Nicholas Kristof, share the \\nPulitzer Prize for International Reporting for their coverage of the \\nTiananmen Square protests of 1989. WuDunn is the first Asian-American \\njournalist to win the prize.\\n', '\\nPresident Frank H.T. Rhodes\\n establishes the Public Service Center at Cornell to coordinate, expand \\nand institutionalize faculty and student community engagement and \\noutreach. The Public Service Center merges with the Office of Engagement\\n Initiatives in creating the David M. Einhorn Center for Community Engagement in summer 2021.\\n', '\\nServing as a mission specialist on STS-47 Spacelab-J, a mission flown on the space shuttle Endeavour, Mae Jemison\\n M.D. ’81 becomes the first African American woman to travel in space. \\nJemison resigns from NASA in 1993 to found the Jemison Group, Inc., \\nwhich researches, markets and develops science and technology for daily \\nlife.\\n', '\\nRuther\\n Bader Ginsburg ’54 is sworn in as an associate justice of the United \\nState Supreme Court, becoming the second woman to serve on the nation’s \\nhighest court. Ginsburg’s commitment the advancement of the rights of \\nall people, particularly women, helps transform American society. \\nCornell celebrates her memory in 2020, naming a North Campus Residence Hall in her honor.\\n', \"\\nThe \\nbeloved television creation of William Nye ’77 debuts in syndication, \\nfeaturing Nye's unique brand of kinetic and quirky science education. \\nThe show airs 100 half-hour episodes over five seasons. Nye remains \\nclosely connected to Cornell, returning on several occasions including \\nas Convocation speaker.\\n\", '\\nTo \\nexpand and institutionalize the sexuality component of the Women’s \\nStudies program, a minor in Lesbian, Bisexual & Gay (LBG) Studies is\\n established at both the graduate and undergraduate levels‚ around the \\ntime when queer theory was taking root in academia. In 2009, LGB Studies\\n changes its name to LGBT Studies.\\n', '\\nThe morning \\nof October 8, Cornellians notice a large pumpkin impaled on the spire of\\n McGraw Tower. The pumpkin, its placement and purpose shrouded in mystery,\\n remains on the tower — 173 feet in the air — for 158 days, causing a \\nbuzz throughout the campus and beyond with non-stop coverage reports \\ncarried by the Associated Press, CNN and MTV.\\n', '\\nThe program begins to offer courses for credit, charging neither tuition nor fees. The Prison Education Program\\n provides a liberal arts curriculum leading to an Associate of Arts \\ndegree for men incarcerated at the Auburn, Cayuga and Five Points \\ncorrectional facilities, helping them build meaningful lives inside \\nprison and prepare for successful re-entry into civic life.\\n', '\\nAfter a 1994 launch, Cornell’s Lake Source Cooling program\\n begins operation, using cold water from the depths of Cayuga Lake to \\nchill water circulated through campus, cooling buildings while using a \\nfraction of the electrical energy. The system — the first of its kind — wins several awards, including the New York Governor’s Award for Pollution Prevention in 2001.\\n', '\\nWeill Cornell Medical College-Qatar is established in Doha, Qatar,\\n via a partnership with the Qatar Foundation for Education, Science, and\\n Community Development. With its dedication in October 2003, it is the \\nfirst American medical school overseas.\\n', '\\nMove-In Day \\nmarks the first time that all first-year students will live in one \\nplace: the new residence halls on North Campus. The North Campus Residential Expansion, reaching completion in 2022, creates even further enriched living-learning experiences for students.\\n', '\\nThe \\nMars rover Spirit lands on Mars, followed by Opportunity three weeks \\nlater. Astronomy professor Steven Squyres is principal investigator on \\nboth missions. The rovers, outfitted with Cornell-designed scientific \\ninstruments, find evidence\\n that liquid water existed at some point in Martian history. Initially \\nexpected to have 90-days of roving, Opportunity ends its mission in \\n2019.\\n', '\\nIn what \\nbecomes a Thanksgiving weekend tradition, Cornell takes on Boston \\nUniversity in the first-ever sold out college hockey game at the Garden.\\n The “Red Hot Hockey” game between Cornell and Boston University \\nalternates with the Frozen Apple Series played against a slew of \\nopponents, drawing the Lynah Faithful to the city in droves every year.\\n', '\\nAuthor Junot Díaz MFA ’95\\xa0receives the 2008 Pulitzer Prize for Fiction\\n for his novel “The Brief Wondrous Life of Oscar Wao.” Díaz is the third\\n Cornell graduate (after Toni Morrison MFA ’55 and Pearl S. Buck MA ’25)\\n to receive the award.\\n', '\\nThe Big Red women’s basketball team completes its best season in its history\\n by winning its first Ivy League championship, earning an invitation to \\nthe NCAA basketball tournament. The team finishes with a 20-9 record \\n(11-3 Ivy).\\n', '\\nWith certification by the U.S. Green Building Council, the Human Ecology Building earns a LEED Platinum rating\\n — the highest rating for sustainable structures — making it the first \\nbuilding to achieve the distinction on the Cornell campus. Four more Cornell buildings later earn LEED Platinum ratings, among the 28 total certified green buildings.\\n', '\\nKyle Dake ’13 is the inaugural Sports Illustrated Male College Athlete of the Year.\\n The four-time Academic All-American finishes with a collegiate record \\nof 137-4, including winning his final 79 matches. Dake continues his \\nwrestling career, winning back-to-back World Championships and earning a\\n bronze medal in the 2020 Summer Olympics.\\n', '\\nCited\\n “for expanding our perceptions of the Romantic tradition and broadening\\n the study of literature,” English Professor Emeritus M.H. Abrams receives the National Humanities Medal from President Barack Obama and the National Endowment for the Humanities.\\n', '\\nCornell is a key partner in the launch of Rev: Ithaca Startup Works\\n in downtown Ithaca. A place for regional entrepreneurs to grow their \\nbusinesses, use workspace and receive mentorship from seasoned \\nprofessionals, Rev is a partnership among Cornell, Ithaca College and \\nTompkins Cortland Community College.\\n', \"\\nResearch at the Baker Institute for Animal Health in the College of Veterinary Medicine leads to the world's first litter of puppies born by in vitro fertilization,\\n opening the door for conserving endangered canid species, using \\ngene-editing technologies to eradicate heritable diseases in dogs and \\nfor study of genetic diseases.\\n\", \"\\nAfter winning a highly publicized competition\\n among the country's top research universities to build the campus with \\nits partner, the Technion – Israel Institute of Technology, Cornell \\ndedicates the Cornell Tech campus on Roosevelt Island. Seen as a \\npowerful symbol of possibility at its dedication, Cornell Tech offers a \\ngraduate and professional education that focuses on research, education \\nand innovation for the digital world.\\n\", '\\nFollowing a $150 million gift\\n from H. Fisk Johnson ’79, M.Eng. ’80, M.S. ’82, MBA ’84, Ph.D. ’86, and\\n SC Johnson, and in recognition of the Johnson family’s \\nmultigenerational legacy of philanthropy to Cornell, the Board of \\nTrustees approves a name change for the College of Business, renaming it\\n the Cornell SC Johnson College of Business.\\n', '\\nCornell’s College of Veterinary Medicine and its satellite clinic in Stamford, Connecticut are now the official providers of veterinary care at the Westminster Kennel Club dog show.\\n', '\\nThe Cornell community rises to the challenges\\n of the COVID-19 pandemic. Cornellians also band together to donate \\ncrucial medical supplies\\xa0and continue Cornell’s core education and \\nresearch missions while maintaining safe health practices and \\nimplementing a massive testing effort.\\n', '\\nThe \\nuniversity reveals plans to launch a new school of public policy \\nalongside university-wide departments drawing faculty from multiple \\ncolleges or schools in the disciplines of economics, psychology and \\nsociology. A gift endows and names the school the Cornell Jeb E. Brooks School of Public Policy.\\n', '\\nA transformative gift\\n from a Silicon Valley champion and longtime philanthropist Ann S. \\nBowers ’59 lays the groundwork for and names the Cornell Ann S. Bowers \\nCollege of Computing and Information Science, supporting Cornell’s \\npreeminence in these fields and enabling construction of a new building.\\n', '\\nLaunched seven months prior, the Perseverance rover lands on Mars’s surface. Several Cornell researchers are involved with instrument design and development\\n on the rover, from cameras to radar imagers. Swati Mohan ’04, a NASA \\naerospace engineer and the mission’s guidance, navigation and controls \\noperations lead, calls the play-by-play landing of the rover.\\n', '\\nWith the final projects reaching completion in 2022, Cornell’s North Campus Residential Expansion\\n creates new capacity for housing, dining, recreation, community \\nbuilding and more and provides intentional and consistent support during\\n the most formative years of the student experience.\\n New buildings, named for a diverse group of Cornellians and the Cayuga \\nNation, include Toni Morrison Hall, Ganędagǫ: Hall, Barbara McClintock \\nHall, Hu Shih Hall and Ruth Bader Ginsburg Hall.\\n', \"\\nThe drilling of the Cornell University Borehole Observatory enables researchers to obtain data that will allow the university to determine whether it can move forward with\\xa0Earth Source Heat,\\n a deep geothermal system that would use the Earth's internal heat to \\nwarm the Ithaca campus without the use of fossil fuels. The system could\\n also provide a blueprint for similar renewable energy efforts \\nelsewhere.\\n\"]\n"
     ]
    }
   ],
   "source": [
    "# your code here\n",
    "year_l = []\n",
    "title_l= []\n",
    "summary_l = []\n",
    "\n",
    "for event in contentList:\n",
    "    year_l.append(event.find('div', {'class':'item-year'}).text)\n",
    "    title_l.append(event.find('div', {'class':'item-title'}).text)\n",
    "    summary_l.append(event.find('div', {'class':'item-desc'}).text)\n",
    "\n",
    "print(year_l)\n",
    "print(title_l)\n",
    "print(summary_l)"
   ]
  },
  {
   "cell_type": "markdown",
   "metadata": {
    "id": "QcYQwrDeZjtW"
   },
   "source": [
    "7. Convert these lists into data frame columns and display the data frame.\n",
    "\n",
    "*Note: you might notice a couple of cells in the first and last row have missing information. This is an issue with the cached version of the webpage. You do not need to fix this.*"
   ]
  },
  {
   "cell_type": "code",
   "execution_count": 45,
   "metadata": {
    "id": "BMauprEw5Po0"
   },
   "outputs": [
    {
     "data": {
      "text/html": [
       "<div>\n",
       "<style scoped>\n",
       "    .dataframe tbody tr th:only-of-type {\n",
       "        vertical-align: middle;\n",
       "    }\n",
       "\n",
       "    .dataframe tbody tr th {\n",
       "        vertical-align: top;\n",
       "    }\n",
       "\n",
       "    .dataframe thead th {\n",
       "        text-align: right;\n",
       "    }\n",
       "</style>\n",
       "<table border=\"1\" class=\"dataframe\">\n",
       "  <thead>\n",
       "    <tr style=\"text-align: right;\">\n",
       "      <th></th>\n",
       "      <th>Year</th>\n",
       "      <th>Title</th>\n",
       "      <th>Summary</th>\n",
       "    </tr>\n",
       "  </thead>\n",
       "  <tbody>\n",
       "    <tr>\n",
       "      <th>0</th>\n",
       "      <td>1862</td>\n",
       "      <td>\\nA mission to serve New York state\\n</td>\n",
       "      <td>\\nThe\\n Morrill Land-Grant Act allows the fede...</td>\n",
       "    </tr>\n",
       "    <tr>\n",
       "      <th>1</th>\n",
       "      <td>1865</td>\n",
       "      <td>\\nCornell charter signed into law\\n</td>\n",
       "      <td>\\nOn April 27, state senators Andrew Dickson W...</td>\n",
       "    </tr>\n",
       "    <tr>\n",
       "      <th>2</th>\n",
       "      <td>1868</td>\n",
       "      <td>\\nCornell chimes ring for the first time\\n</td>\n",
       "      <td>\\nThe original set of nine bells first rings o...</td>\n",
       "    </tr>\n",
       "    <tr>\n",
       "      <th>3</th>\n",
       "      <td>1868</td>\n",
       "      <td>\\nCornell University opens\\n</td>\n",
       "      <td>\\nInitially\\n divided into two parts — the Div...</td>\n",
       "    </tr>\n",
       "    <tr>\n",
       "      <th>4</th>\n",
       "      <td>1870</td>\n",
       "      <td>\\nSibley funds creation of engineering college\\n</td>\n",
       "      <td>\\nHiram \\nSibley, one of the 10 incorporators ...</td>\n",
       "    </tr>\n",
       "    <tr>\n",
       "      <th>...</th>\n",
       "      <td>...</td>\n",
       "      <td>...</td>\n",
       "      <td>...</td>\n",
       "    </tr>\n",
       "    <tr>\n",
       "      <th>103</th>\n",
       "      <td>2020</td>\n",
       "      <td>\\nCornell forms school of public policy and un...</td>\n",
       "      <td>\\nThe \\nuniversity reveals plans to launch a n...</td>\n",
       "    </tr>\n",
       "    <tr>\n",
       "      <th>104</th>\n",
       "      <td>2020</td>\n",
       "      <td>\\nGift establishes new college of computing an...</td>\n",
       "      <td>\\nA transformative gift\\n from a Silicon Valle...</td>\n",
       "    </tr>\n",
       "    <tr>\n",
       "      <th>105</th>\n",
       "      <td>2021</td>\n",
       "      <td>\\nPerseverance Lands on Mars\\n</td>\n",
       "      <td>\\nLaunched seven months prior, the Perseveranc...</td>\n",
       "    </tr>\n",
       "    <tr>\n",
       "      <th>106</th>\n",
       "      <td>2022</td>\n",
       "      <td>\\nNorth campus reshapes campus residential com...</td>\n",
       "      <td>\\nWith the final projects reaching completion ...</td>\n",
       "    </tr>\n",
       "    <tr>\n",
       "      <th>107</th>\n",
       "      <td>2022</td>\n",
       "      <td>\\nTwo-mile deep borehole explores potential fo...</td>\n",
       "      <td>\\nThe drilling of the Cornell University Boreh...</td>\n",
       "    </tr>\n",
       "  </tbody>\n",
       "</table>\n",
       "<p>108 rows × 3 columns</p>\n",
       "</div>"
      ],
      "text/plain": [
       "     Year                                              Title  \\\n",
       "0    1862              \\nA mission to serve New York state\\n   \n",
       "1    1865                \\nCornell charter signed into law\\n   \n",
       "2    1868         \\nCornell chimes ring for the first time\\n   \n",
       "3    1868                       \\nCornell University opens\\n   \n",
       "4    1870   \\nSibley funds creation of engineering college\\n   \n",
       "..    ...                                                ...   \n",
       "103  2020  \\nCornell forms school of public policy and un...   \n",
       "104  2020  \\nGift establishes new college of computing an...   \n",
       "105  2021                     \\nPerseverance Lands on Mars\\n   \n",
       "106  2022  \\nNorth campus reshapes campus residential com...   \n",
       "107  2022  \\nTwo-mile deep borehole explores potential fo...   \n",
       "\n",
       "                                               Summary  \n",
       "0    \\nThe\\n Morrill Land-Grant Act allows the fede...  \n",
       "1    \\nOn April 27, state senators Andrew Dickson W...  \n",
       "2    \\nThe original set of nine bells first rings o...  \n",
       "3    \\nInitially\\n divided into two parts — the Div...  \n",
       "4    \\nHiram \\nSibley, one of the 10 incorporators ...  \n",
       "..                                                 ...  \n",
       "103  \\nThe \\nuniversity reveals plans to launch a n...  \n",
       "104  \\nA transformative gift\\n from a Silicon Valle...  \n",
       "105  \\nLaunched seven months prior, the Perseveranc...  \n",
       "106  \\nWith the final projects reaching completion ...  \n",
       "107  \\nThe drilling of the Cornell University Boreh...  \n",
       "\n",
       "[108 rows x 3 columns]"
      ]
     },
     "execution_count": 45,
     "metadata": {},
     "output_type": "execute_result"
    }
   ],
   "source": [
    "# your code here\n",
    "data= {'Year': year_l, 'Title': title_l, 'Summary': summary_l}\n",
    "pd.DataFrame(data)"
   ]
  },
  {
   "cell_type": "markdown",
   "metadata": {
    "id": "JRwxJzFTJqSE"
   },
   "source": [
    "---"
   ]
  },
  {
   "cell_type": "markdown",
   "metadata": {
    "id": "0WTDJt8R6VEW"
   },
   "source": [
    "## Problem 3\n",
    "\n",
    "Select a page from the web that contains some table element. Extract the table's information and put it into a pandas data frame. Make sure to display the table when you are finished.\n",
    "\n",
    "As a suggestion, you may use the [Wikipedia page for Cornell University](https://en.wikipedia.org/wiki/Cornell_University). The table on the right side of the page is a good option for scraping and displaying.\n",
    "\n",
    "Remember to use the following steps, as you did above:\n",
    "1. Use the requests library to `get` the website's HTML. Check the status code.\n",
    "2. Convert what you retrieved with the `requests` library to a text string.\n",
    "3. Parse the text as HTML with BeautifulSoup.\n",
    "4. Manually search the HTML (with ^F) for the text strings you want to collect. Identify the tags and classes associated with that text.\n",
    "5. Use combinations of `find` and `find_all` to retrieve the text you are interested in.\n",
    "6. Convert the text to a data frame. Display this.\n",
    "\n"
   ]
  },
  {
   "cell_type": "code",
   "execution_count": 49,
   "metadata": {
    "id": "3Wu8wB-Kz6IG"
   },
   "outputs": [],
   "source": [
    "wiki_url = \"https://koenecke.infosci.cornell.edu/files/info2950/Cornell%20University%20-%20Wikipedia.html\" # optional cached version"
   ]
  },
  {
   "cell_type": "code",
   "execution_count": 50,
   "metadata": {
    "colab": {
     "base_uri": "https://localhost:8080/",
     "height": 833
    },
    "id": "txk4mCPYgwP0",
    "outputId": "cad62e74-7bc4-4037-804e-929c972cf120"
   },
   "outputs": [],
   "source": [
    "# your code here, add as many cells as you need\n",
    "wiki_result = requests.get(wiki_url)\n",
    "if wiki_result.status_code != 200:\n",
    "  print(\"something went wrong:\", wiki_result.status_code, wiki_result.reason)"
   ]
  },
  {
   "cell_type": "code",
   "execution_count": 51,
   "metadata": {},
   "outputs": [
    {
     "name": "stdout",
     "output_type": "stream",
     "text": [
      "<!DOCTYPE html>\n",
      "<htm\n"
     ]
    }
   ],
   "source": [
    "wiki_source = wiki_result.text\n",
    "print(wiki_source[:20])"
   ]
  },
  {
   "cell_type": "code",
   "execution_count": 52,
   "metadata": {},
   "outputs": [],
   "source": [
    "wikipage = BeautifulSoup(wiki_source, \"html.parser\")"
   ]
  },
  {
   "cell_type": "code",
   "execution_count": 71,
   "metadata": {},
   "outputs": [
    {
     "name": "stdout",
     "output_type": "stream",
     "text": [
      "                   Labels                                               Info\n",
      "0                    None                                                   \n",
      "1                    None                     Latin: Universitas Cornelliana\n",
      "2                    Type          Private[1] land-grant research university\n",
      "3             Established         April 27, 1865; 158 years ago (1865-04-27)\n",
      "4                 Founder             \\nEzra Cornell\\nAndrew Dickson White\\n\n",
      "5           Accreditation                                              MSCHE\n",
      "6   Academic affiliations           AAUCOFHENAICUSUNYURASea-grantSpace-grant\n",
      "7               Endowment                             $9.8 billion (2022)[2]\n",
      "8                  Budget                               $5 billion (2022)[3]\n",
      "9               President                                  Martha E. Pollack\n",
      "10                Provost                                  Michael Kotlikoff\n",
      "11         Academic staff  1,639 – Ithaca, New York1,235 – NYC, New York3...\n",
      "12               Students                              25,593 (Fall 2021)[4]\n",
      "13         Undergraduates                              15,507 (Fall 2021)[4]\n",
      "14          Postgraduates                              10,086 (Fall 2021)[4]\n",
      "15               Location  Ithaca, New York, United States42°27′13″N 76°2...\n",
      "16                 Campus                  Small city[5], 745 acres (301 ha)\n",
      "17      Other campuses[6]                                       New YorkDoha\n",
      "18              Newspaper             The Cornell Daily SunCornell Chronicle\n",
      "19                 Colors                      Carnelian red and white[7]   \n",
      "20               Nickname                                            Big Red\n",
      "21  Sporting affiliations       NCAA Division I FCS – Ivy LeagueIRAEARCEAWRC\n",
      "22                 Mascot                 Touchdown the Bear (unofficial)[8]\n",
      "23                Website                                    www.cornell.edu\n",
      "24                   None                                                   \n"
     ]
    }
   ],
   "source": [
    "wiki_table = wikipage.find('table', {'class':'infobox vcard'})\n",
    "wiki_rows = wiki_table.find_all('tr')\n",
    "\n",
    "title= []\n",
    "facts= []\n",
    "for row in wiki_rows: \n",
    "    header = row.find('th')\n",
    "    val= row.find('td')\n",
    "    \n",
    "    if header != None:\n",
    "        header= header.text\n",
    "    if val != None:\n",
    "        val= val.text\n",
    "        \n",
    "    title.append(header)\n",
    "    facts.append(val)\n",
    "\n",
    "wiki_dict = {'Labels': title, 'Info': facts}\n",
    "wiki_df = pd.DataFrame(wiki_dict)\n",
    "print(wiki_df)"
   ]
  },
  {
   "cell_type": "markdown",
   "metadata": {
    "id": "1empeX0fj7XQ"
   },
   "source": [
    "## Submission\n",
    "**Make sure to complete and save this notebook before next Friday's section.** We will practice pushing and pulling code from GitHub and we will ask you to push a completed version of this notebook to that repository."
   ]
  }
 ],
 "metadata": {
  "colab": {
   "provenance": []
  },
  "kernelspec": {
   "display_name": "Python 3 (ipykernel)",
   "language": "python",
   "name": "python3"
  },
  "language_info": {
   "codemirror_mode": {
    "name": "ipython",
    "version": 3
   },
   "file_extension": ".py",
   "mimetype": "text/x-python",
   "name": "python",
   "nbconvert_exporter": "python",
   "pygments_lexer": "ipython3",
   "version": "3.11.4"
  }
 },
 "nbformat": 4,
 "nbformat_minor": 1
}
